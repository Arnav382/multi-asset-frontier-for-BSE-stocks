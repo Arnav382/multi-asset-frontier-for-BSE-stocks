{
 "cells": [
  {
   "cell_type": "code",
   "execution_count": 2,
   "metadata": {
    "id": "kFQL2XnFiHfK"
   },
   "outputs": [
    {
     "name": "stdout",
     "output_type": "stream",
     "text": [
      "The autoreload extension is already loaded. To reload it, use:\n",
      "  %reload_ext autoreload\n"
     ]
    }
   ],
   "source": [
    "%load_ext autoreload\n",
    "%autoreload 2\n",
    "%matplotlib inline\n",
    "import risk_management_utils as erk"
   ]
  },
  {
   "cell_type": "code",
   "execution_count": 3,
   "metadata": {
    "id": "fF73uAVmiS6P"
   },
   "outputs": [],
   "source": [
    "import quandl\n",
    "import numpy as np\n",
    "import pandas as pd\n",
    "quandl.ApiConfig.api_key=\"uitSwzyGWCxD8Nt2pZGF\""
   ]
  },
  {
   "cell_type": "code",
   "execution_count": 39,
   "metadata": {
    "id": "xyw2Vt8biaU9"
   },
   "outputs": [
    {
     "data": {
      "text/html": [
       "<div>\n",
       "<style scoped>\n",
       "    .dataframe tbody tr th:only-of-type {\n",
       "        vertical-align: middle;\n",
       "    }\n",
       "\n",
       "    .dataframe tbody tr th {\n",
       "        vertical-align: top;\n",
       "    }\n",
       "\n",
       "    .dataframe thead th {\n",
       "        text-align: right;\n",
       "    }\n",
       "</style>\n",
       "<table border=\"1\" class=\"dataframe\">\n",
       "  <thead>\n",
       "    <tr style=\"text-align: right;\">\n",
       "      <th></th>\n",
       "      <th>Open</th>\n",
       "      <th>High</th>\n",
       "      <th>Low</th>\n",
       "      <th>Close</th>\n",
       "      <th>WAP</th>\n",
       "      <th>No. of Shares</th>\n",
       "      <th>No. of Trades</th>\n",
       "      <th>Total Turnover</th>\n",
       "      <th>Deliverable Quantity</th>\n",
       "      <th>% Deli. Qty to Traded Qty</th>\n",
       "      <th>Spread H-L</th>\n",
       "      <th>Spread C-O</th>\n",
       "    </tr>\n",
       "    <tr>\n",
       "      <th>Date</th>\n",
       "      <th></th>\n",
       "      <th></th>\n",
       "      <th></th>\n",
       "      <th></th>\n",
       "      <th></th>\n",
       "      <th></th>\n",
       "      <th></th>\n",
       "      <th></th>\n",
       "      <th></th>\n",
       "      <th></th>\n",
       "      <th></th>\n",
       "      <th></th>\n",
       "    </tr>\n",
       "  </thead>\n",
       "  <tbody>\n",
       "    <tr>\n",
       "      <th>1995-05-05</th>\n",
       "      <td>177.00</td>\n",
       "      <td>178.0</td>\n",
       "      <td>174.00</td>\n",
       "      <td>175.00</td>\n",
       "      <td>0.00</td>\n",
       "      <td>0.0</td>\n",
       "      <td>0.0</td>\n",
       "      <td>0.0</td>\n",
       "      <td>NaN</td>\n",
       "      <td>NaN</td>\n",
       "      <td>4.00</td>\n",
       "      <td>-2.00</td>\n",
       "    </tr>\n",
       "    <tr>\n",
       "      <th>1995-05-08</th>\n",
       "      <td>172.00</td>\n",
       "      <td>174.0</td>\n",
       "      <td>172.00</td>\n",
       "      <td>172.00</td>\n",
       "      <td>0.00</td>\n",
       "      <td>0.0</td>\n",
       "      <td>0.0</td>\n",
       "      <td>0.0</td>\n",
       "      <td>NaN</td>\n",
       "      <td>NaN</td>\n",
       "      <td>2.00</td>\n",
       "      <td>0.00</td>\n",
       "    </tr>\n",
       "    <tr>\n",
       "      <th>1995-05-09</th>\n",
       "      <td>174.00</td>\n",
       "      <td>174.0</td>\n",
       "      <td>170.00</td>\n",
       "      <td>172.00</td>\n",
       "      <td>0.00</td>\n",
       "      <td>0.0</td>\n",
       "      <td>0.0</td>\n",
       "      <td>0.0</td>\n",
       "      <td>NaN</td>\n",
       "      <td>NaN</td>\n",
       "      <td>4.00</td>\n",
       "      <td>-2.00</td>\n",
       "    </tr>\n",
       "    <tr>\n",
       "      <th>1995-05-10</th>\n",
       "      <td>171.00</td>\n",
       "      <td>172.0</td>\n",
       "      <td>170.00</td>\n",
       "      <td>171.00</td>\n",
       "      <td>0.00</td>\n",
       "      <td>0.0</td>\n",
       "      <td>0.0</td>\n",
       "      <td>0.0</td>\n",
       "      <td>NaN</td>\n",
       "      <td>NaN</td>\n",
       "      <td>2.00</td>\n",
       "      <td>0.00</td>\n",
       "    </tr>\n",
       "    <tr>\n",
       "      <th>1995-05-12</th>\n",
       "      <td>169.00</td>\n",
       "      <td>171.0</td>\n",
       "      <td>167.00</td>\n",
       "      <td>171.00</td>\n",
       "      <td>0.00</td>\n",
       "      <td>0.0</td>\n",
       "      <td>0.0</td>\n",
       "      <td>0.0</td>\n",
       "      <td>NaN</td>\n",
       "      <td>NaN</td>\n",
       "      <td>4.00</td>\n",
       "      <td>2.00</td>\n",
       "    </tr>\n",
       "    <tr>\n",
       "      <th>...</th>\n",
       "      <td>...</td>\n",
       "      <td>...</td>\n",
       "      <td>...</td>\n",
       "      <td>...</td>\n",
       "      <td>...</td>\n",
       "      <td>...</td>\n",
       "      <td>...</td>\n",
       "      <td>...</td>\n",
       "      <td>...</td>\n",
       "      <td>...</td>\n",
       "      <td>...</td>\n",
       "      <td>...</td>\n",
       "    </tr>\n",
       "    <tr>\n",
       "      <th>2023-01-18</th>\n",
       "      <td>596.85</td>\n",
       "      <td>597.1</td>\n",
       "      <td>587.85</td>\n",
       "      <td>591.40</td>\n",
       "      <td>591.34</td>\n",
       "      <td>322537.0</td>\n",
       "      <td>10380.0</td>\n",
       "      <td>190729606.0</td>\n",
       "      <td>101724.0</td>\n",
       "      <td>31.54</td>\n",
       "      <td>9.25</td>\n",
       "      <td>-5.45</td>\n",
       "    </tr>\n",
       "    <tr>\n",
       "      <th>2023-01-19</th>\n",
       "      <td>591.50</td>\n",
       "      <td>591.5</td>\n",
       "      <td>587.80</td>\n",
       "      <td>589.90</td>\n",
       "      <td>589.47</td>\n",
       "      <td>168181.0</td>\n",
       "      <td>5206.0</td>\n",
       "      <td>99138403.0</td>\n",
       "      <td>63026.0</td>\n",
       "      <td>37.48</td>\n",
       "      <td>3.70</td>\n",
       "      <td>-1.60</td>\n",
       "    </tr>\n",
       "    <tr>\n",
       "      <th>2023-01-20</th>\n",
       "      <td>592.00</td>\n",
       "      <td>596.5</td>\n",
       "      <td>590.50</td>\n",
       "      <td>592.10</td>\n",
       "      <td>594.22</td>\n",
       "      <td>259570.0</td>\n",
       "      <td>8517.0</td>\n",
       "      <td>154242333.0</td>\n",
       "      <td>134805.0</td>\n",
       "      <td>51.93</td>\n",
       "      <td>6.00</td>\n",
       "      <td>0.10</td>\n",
       "    </tr>\n",
       "    <tr>\n",
       "      <th>2023-01-23</th>\n",
       "      <td>598.15</td>\n",
       "      <td>601.5</td>\n",
       "      <td>592.50</td>\n",
       "      <td>600.45</td>\n",
       "      <td>599.23</td>\n",
       "      <td>138245.0</td>\n",
       "      <td>5395.0</td>\n",
       "      <td>82840266.0</td>\n",
       "      <td>58659.0</td>\n",
       "      <td>42.43</td>\n",
       "      <td>9.00</td>\n",
       "      <td>2.30</td>\n",
       "    </tr>\n",
       "    <tr>\n",
       "      <th>2023-01-24</th>\n",
       "      <td>602.45</td>\n",
       "      <td>604.6</td>\n",
       "      <td>593.00</td>\n",
       "      <td>594.35</td>\n",
       "      <td>598.70</td>\n",
       "      <td>217501.0</td>\n",
       "      <td>8344.0</td>\n",
       "      <td>130217177.0</td>\n",
       "      <td>76812.0</td>\n",
       "      <td>35.32</td>\n",
       "      <td>11.60</td>\n",
       "      <td>-8.10</td>\n",
       "    </tr>\n",
       "  </tbody>\n",
       "</table>\n",
       "<p>6868 rows × 12 columns</p>\n",
       "</div>"
      ],
      "text/plain": [
       "              Open   High     Low   Close     WAP  No. of Shares  \\\n",
       "Date                                                               \n",
       "1995-05-05  177.00  178.0  174.00  175.00    0.00            0.0   \n",
       "1995-05-08  172.00  174.0  172.00  172.00    0.00            0.0   \n",
       "1995-05-09  174.00  174.0  170.00  172.00    0.00            0.0   \n",
       "1995-05-10  171.00  172.0  170.00  171.00    0.00            0.0   \n",
       "1995-05-12  169.00  171.0  167.00  171.00    0.00            0.0   \n",
       "...            ...    ...     ...     ...     ...            ...   \n",
       "2023-01-18  596.85  597.1  587.85  591.40  591.34       322537.0   \n",
       "2023-01-19  591.50  591.5  587.80  589.90  589.47       168181.0   \n",
       "2023-01-20  592.00  596.5  590.50  592.10  594.22       259570.0   \n",
       "2023-01-23  598.15  601.5  592.50  600.45  599.23       138245.0   \n",
       "2023-01-24  602.45  604.6  593.00  594.35  598.70       217501.0   \n",
       "\n",
       "            No. of Trades  Total Turnover  Deliverable Quantity  \\\n",
       "Date                                                              \n",
       "1995-05-05            0.0             0.0                   NaN   \n",
       "1995-05-08            0.0             0.0                   NaN   \n",
       "1995-05-09            0.0             0.0                   NaN   \n",
       "1995-05-10            0.0             0.0                   NaN   \n",
       "1995-05-12            0.0             0.0                   NaN   \n",
       "...                   ...             ...                   ...   \n",
       "2023-01-18        10380.0     190729606.0              101724.0   \n",
       "2023-01-19         5206.0      99138403.0               63026.0   \n",
       "2023-01-20         8517.0     154242333.0              134805.0   \n",
       "2023-01-23         5395.0      82840266.0               58659.0   \n",
       "2023-01-24         8344.0     130217177.0               76812.0   \n",
       "\n",
       "            % Deli. Qty to Traded Qty  Spread H-L  Spread C-O  \n",
       "Date                                                           \n",
       "1995-05-05                        NaN        4.00       -2.00  \n",
       "1995-05-08                        NaN        2.00        0.00  \n",
       "1995-05-09                        NaN        4.00       -2.00  \n",
       "1995-05-10                        NaN        2.00        0.00  \n",
       "1995-05-12                        NaN        4.00        2.00  \n",
       "...                               ...         ...         ...  \n",
       "2023-01-18                      31.54        9.25       -5.45  \n",
       "2023-01-19                      37.48        3.70       -1.60  \n",
       "2023-01-20                      51.93        6.00        0.10  \n",
       "2023-01-23                      42.43        9.00        2.30  \n",
       "2023-01-24                      35.32       11.60       -8.10  \n",
       "\n",
       "[6868 rows x 12 columns]"
      ]
     },
     "execution_count": 39,
     "metadata": {},
     "output_type": "execute_result"
    }
   ],
   "source": [
    "af=quandl.get(\"BSE/BOM500440\") ## hindalco\n",
    "bf=quandl.get(\"BSE/BOM500400\") ## tata power\n",
    "cf=erk.get_data(\"BSE/BOM532215\")## axis bank\n",
    "df=erk.get_data(\"BSE/BOM500112\")## SBI\n",
    "ef=erk.get_data(\"BSE/BOM532281\")## HCL\n",
    "\n",
    "df"
   ]
  },
  {
   "cell_type": "code",
   "execution_count": 40,
   "metadata": {
    "id": "1BGLio_NilW1"
   },
   "outputs": [],
   "source": [
    "af.rename(columns={\"Close\":\"Hindalco\"},inplace=True)\n",
    "bf.rename(columns={\"Close\":\"Tata Power\"},inplace=True)\n",
    "cf.rename(columns={\"Close\":\"Axis Bank\"},inplace=True)\n",
    "df.rename(columns={\"Close\":\"SBI\"},inplace=True)\n",
    "ef.rename(columns={\"Close\":\"HCL\"},inplace=True)\n"
   ]
  },
  {
   "cell_type": "code",
   "execution_count": 43,
   "metadata": {
    "id": "jO0mOq5oil92"
   },
   "outputs": [],
   "source": [
    "af_1=af[\"Hindalco\"]\n",
    "# df_1.index=df_1.index.to_period(\"M\")\n",
    "bf_1=bf[\"Tata Power\"]\n",
    "cf_1=cf[\"Axis Bank\"]\n",
    "df_1=sf[\"SBI\"]\n",
    "ef_1=hf[\"HCL\"]"
   ]
  },
  {
   "cell_type": "code",
   "execution_count": 46,
   "metadata": {
    "id": "ex40c5Nqj6VD"
   },
   "outputs": [
    {
     "data": {
      "text/plain": [
       "(336, 5)"
      ]
     },
     "execution_count": 46,
     "metadata": {},
     "output_type": "execute_result"
    }
   ],
   "source": [
    "retur=pd.concat([af_1,bf_1,cf_1,df_1,ef_1],axis=1,\n",
    "                  names={\"Hindalco\",\"Tata Power\",\"Axis Bank\",\"SBI\",\"HCL\"})\n",
    "returns=erk.compute_daily_return(retur)\n",
    "retur.to_csv(\"holdings.csv\")\n",
    "returns.dropna()\n",
    "ret=returns[7443:]\n",
    "ret.shape"
   ]
  },
  {
   "cell_type": "code",
   "execution_count": 47,
   "metadata": {},
   "outputs": [
    {
     "data": {
      "text/html": [
       "<div>\n",
       "<style scoped>\n",
       "    .dataframe tbody tr th:only-of-type {\n",
       "        vertical-align: middle;\n",
       "    }\n",
       "\n",
       "    .dataframe tbody tr th {\n",
       "        vertical-align: top;\n",
       "    }\n",
       "\n",
       "    .dataframe thead th {\n",
       "        text-align: right;\n",
       "    }\n",
       "</style>\n",
       "<table border=\"1\" class=\"dataframe\">\n",
       "  <thead>\n",
       "    <tr style=\"text-align: right;\">\n",
       "      <th></th>\n",
       "      <th>Hindalco</th>\n",
       "      <th>Tata Power</th>\n",
       "      <th>Axis Bank</th>\n",
       "      <th>SBI</th>\n",
       "      <th>HCL</th>\n",
       "    </tr>\n",
       "    <tr>\n",
       "      <th>Date</th>\n",
       "      <th></th>\n",
       "      <th></th>\n",
       "      <th></th>\n",
       "      <th></th>\n",
       "      <th></th>\n",
       "    </tr>\n",
       "  </thead>\n",
       "  <tbody>\n",
       "    <tr>\n",
       "      <th>2021-09-22</th>\n",
       "      <td>0.026383</td>\n",
       "      <td>0.014354</td>\n",
       "      <td>-0.008489</td>\n",
       "      <td>0.000114</td>\n",
       "      <td>0.012933</td>\n",
       "    </tr>\n",
       "    <tr>\n",
       "      <th>2021-09-23</th>\n",
       "      <td>0.042985</td>\n",
       "      <td>0.042453</td>\n",
       "      <td>0.030378</td>\n",
       "      <td>0.024601</td>\n",
       "      <td>0.009234</td>\n",
       "    </tr>\n",
       "    <tr>\n",
       "      <th>2021-09-24</th>\n",
       "      <td>-0.009216</td>\n",
       "      <td>-0.031674</td>\n",
       "      <td>-0.017419</td>\n",
       "      <td>-0.020009</td>\n",
       "      <td>0.022365</td>\n",
       "    </tr>\n",
       "    <tr>\n",
       "      <th>2021-09-27</th>\n",
       "      <td>0.005853</td>\n",
       "      <td>-0.002516</td>\n",
       "      <td>-0.002067</td>\n",
       "      <td>0.012250</td>\n",
       "      <td>-0.045778</td>\n",
       "    </tr>\n",
       "    <tr>\n",
       "      <th>2021-09-28</th>\n",
       "      <td>-0.006131</td>\n",
       "      <td>0.009369</td>\n",
       "      <td>-0.009541</td>\n",
       "      <td>-0.002465</td>\n",
       "      <td>-0.020301</td>\n",
       "    </tr>\n",
       "    <tr>\n",
       "      <th>...</th>\n",
       "      <td>...</td>\n",
       "      <td>...</td>\n",
       "      <td>...</td>\n",
       "      <td>...</td>\n",
       "      <td>...</td>\n",
       "    </tr>\n",
       "    <tr>\n",
       "      <th>2023-01-19</th>\n",
       "      <td>-0.007355</td>\n",
       "      <td>-0.010366</td>\n",
       "      <td>0.004707</td>\n",
       "      <td>-0.002536</td>\n",
       "      <td>-0.002424</td>\n",
       "    </tr>\n",
       "    <tr>\n",
       "      <th>2023-01-20</th>\n",
       "      <td>-0.018824</td>\n",
       "      <td>0.009257</td>\n",
       "      <td>0.002423</td>\n",
       "      <td>0.003729</td>\n",
       "      <td>-0.003239</td>\n",
       "    </tr>\n",
       "    <tr>\n",
       "      <th>2023-01-23</th>\n",
       "      <td>0.007450</td>\n",
       "      <td>-0.000724</td>\n",
       "      <td>0.002847</td>\n",
       "      <td>0.014102</td>\n",
       "      <td>0.012097</td>\n",
       "    </tr>\n",
       "    <tr>\n",
       "      <th>2023-01-24</th>\n",
       "      <td>-0.018942</td>\n",
       "      <td>-0.006039</td>\n",
       "      <td>-0.024964</td>\n",
       "      <td>-0.010159</td>\n",
       "      <td>0.014717</td>\n",
       "    </tr>\n",
       "    <tr>\n",
       "      <th>2023-01-25</th>\n",
       "      <td>0.000000</td>\n",
       "      <td>0.000000</td>\n",
       "      <td>-0.020164</td>\n",
       "      <td>0.000000</td>\n",
       "      <td>-0.012833</td>\n",
       "    </tr>\n",
       "  </tbody>\n",
       "</table>\n",
       "<p>336 rows × 5 columns</p>\n",
       "</div>"
      ],
      "text/plain": [
       "            Hindalco  Tata Power  Axis Bank       SBI       HCL\n",
       "Date                                                           \n",
       "2021-09-22  0.026383    0.014354  -0.008489  0.000114  0.012933\n",
       "2021-09-23  0.042985    0.042453   0.030378  0.024601  0.009234\n",
       "2021-09-24 -0.009216   -0.031674  -0.017419 -0.020009  0.022365\n",
       "2021-09-27  0.005853   -0.002516  -0.002067  0.012250 -0.045778\n",
       "2021-09-28 -0.006131    0.009369  -0.009541 -0.002465 -0.020301\n",
       "...              ...         ...        ...       ...       ...\n",
       "2023-01-19 -0.007355   -0.010366   0.004707 -0.002536 -0.002424\n",
       "2023-01-20 -0.018824    0.009257   0.002423  0.003729 -0.003239\n",
       "2023-01-23  0.007450   -0.000724   0.002847  0.014102  0.012097\n",
       "2023-01-24 -0.018942   -0.006039  -0.024964 -0.010159  0.014717\n",
       "2023-01-25  0.000000    0.000000  -0.020164  0.000000 -0.012833\n",
       "\n",
       "[336 rows x 5 columns]"
      ]
     },
     "execution_count": 47,
     "metadata": {},
     "output_type": "execute_result"
    }
   ],
   "source": [
    "ret"
   ]
  },
  {
   "cell_type": "code",
   "execution_count": 49,
   "metadata": {},
   "outputs": [
    {
     "data": {
      "text/html": [
       "<div>\n",
       "<style scoped>\n",
       "    .dataframe tbody tr th:only-of-type {\n",
       "        vertical-align: middle;\n",
       "    }\n",
       "\n",
       "    .dataframe tbody tr th {\n",
       "        vertical-align: top;\n",
       "    }\n",
       "\n",
       "    .dataframe thead th {\n",
       "        text-align: right;\n",
       "    }\n",
       "</style>\n",
       "<table border=\"1\" class=\"dataframe\">\n",
       "  <thead>\n",
       "    <tr style=\"text-align: right;\">\n",
       "      <th></th>\n",
       "      <th>Hindalco</th>\n",
       "      <th>Tata Power</th>\n",
       "      <th>Axis Bank</th>\n",
       "      <th>SBI</th>\n",
       "      <th>HCL</th>\n",
       "    </tr>\n",
       "    <tr>\n",
       "      <th>Date</th>\n",
       "      <th></th>\n",
       "      <th></th>\n",
       "      <th></th>\n",
       "      <th></th>\n",
       "      <th></th>\n",
       "    </tr>\n",
       "  </thead>\n",
       "  <tbody>\n",
       "    <tr>\n",
       "      <th>2021-09-22</th>\n",
       "      <td>462.95</td>\n",
       "      <td>137.80</td>\n",
       "      <td>788.40</td>\n",
       "      <td>439.0</td>\n",
       "      <td>1315.80</td>\n",
       "    </tr>\n",
       "    <tr>\n",
       "      <th>2021-09-23</th>\n",
       "      <td>482.85</td>\n",
       "      <td>143.65</td>\n",
       "      <td>812.35</td>\n",
       "      <td>449.8</td>\n",
       "      <td>1327.95</td>\n",
       "    </tr>\n",
       "    <tr>\n",
       "      <th>2021-09-24</th>\n",
       "      <td>478.40</td>\n",
       "      <td>139.10</td>\n",
       "      <td>798.20</td>\n",
       "      <td>440.8</td>\n",
       "      <td>1357.65</td>\n",
       "    </tr>\n",
       "    <tr>\n",
       "      <th>2021-09-27</th>\n",
       "      <td>481.20</td>\n",
       "      <td>138.75</td>\n",
       "      <td>796.55</td>\n",
       "      <td>446.2</td>\n",
       "      <td>1295.50</td>\n",
       "    </tr>\n",
       "    <tr>\n",
       "      <th>2021-09-28</th>\n",
       "      <td>478.25</td>\n",
       "      <td>140.05</td>\n",
       "      <td>788.95</td>\n",
       "      <td>445.1</td>\n",
       "      <td>1269.20</td>\n",
       "    </tr>\n",
       "  </tbody>\n",
       "</table>\n",
       "</div>"
      ],
      "text/plain": [
       "            Hindalco  Tata Power  Axis Bank    SBI      HCL\n",
       "Date                                                       \n",
       "2021-09-22    462.95      137.80     788.40  439.0  1315.80\n",
       "2021-09-23    482.85      143.65     812.35  449.8  1327.95\n",
       "2021-09-24    478.40      139.10     798.20  440.8  1357.65\n",
       "2021-09-27    481.20      138.75     796.55  446.2  1295.50\n",
       "2021-09-28    478.25      140.05     788.95  445.1  1269.20"
      ]
     },
     "execution_count": 49,
     "metadata": {},
     "output_type": "execute_result"
    }
   ],
   "source": [
    "retur[7443:].head()"
   ]
  },
  {
   "cell_type": "code",
   "execution_count": 53,
   "metadata": {
    "colab": {
     "base_uri": "https://localhost:8080/"
    },
    "id": "Hmtd6q-TrspB",
    "outputId": "f6d42e39-6c02-4803-e80c-d87f98c4e014"
   },
   "outputs": [
    {
     "data": {
      "text/plain": [
       "Hindalco      0.025701\n",
       "Tata Power    0.026783\n",
       "Axis Bank     0.017750\n",
       "SBI           0.016449\n",
       "HCL           0.016239\n",
       "dtype: float64"
      ]
     },
     "execution_count": 53,
     "metadata": {},
     "output_type": "execute_result"
    }
   ],
   "source": [
    "## standard deviation of respective returns gives daily percent return, taking 7443 index onwards to keep relevant period of time under consideration \n",
    "erk.daily_vol(ret) ## daily volatility (σp)"
   ]
  },
  {
   "cell_type": "code",
   "execution_count": 54,
   "metadata": {
    "colab": {
     "base_uri": "https://localhost:8080/"
    },
    "id": "lKU6tWCX5zwx",
    "outputId": "d7042358-f913-4842-ab46-d7c907f23717"
   },
   "outputs": [
    {
     "data": {
      "text/plain": [
       "Hindalco      0.407985\n",
       "Tata Power    0.425170\n",
       "Axis Bank     0.281772\n",
       "SBI           0.261112\n",
       "HCL           0.257793\n",
       "dtype: float64"
      ]
     },
     "execution_count": 54,
     "metadata": {},
     "output_type": "execute_result"
    }
   ],
   "source": [
    "erk.annual_vol(ret)"
   ]
  },
  {
   "cell_type": "code",
   "execution_count": 55,
   "metadata": {
    "colab": {
     "base_uri": "https://localhost:8080/"
    },
    "id": "ticTpb056XHa",
    "outputId": "1a0d2c7c-28dd-4218-d667-b8f8a9f47288"
   },
   "outputs": [
    {
     "data": {
      "text/plain": [
       "Hindalco      0.117775\n",
       "Tata Power    0.122736\n",
       "Axis Bank     0.081341\n",
       "SBI           0.075377\n",
       "HCL           0.074419\n",
       "dtype: float64"
      ]
     },
     "execution_count": 55,
     "metadata": {},
     "output_type": "execute_result"
    }
   ],
   "source": [
    "erk.monthly_vol(ret)"
   ]
  },
  {
   "cell_type": "code",
   "execution_count": 56,
   "metadata": {
    "colab": {
     "base_uri": "https://localhost:8080/",
     "height": 286
    },
    "id": "dssZMEG7tcrF",
    "outputId": "e4867e0e-1cb9-4e89-f97e-279835ee8ae1"
   },
   "outputs": [
    {
     "data": {
      "text/plain": [
       "<AxesSubplot:xlabel='Date'>"
      ]
     },
     "execution_count": 56,
     "metadata": {},
     "output_type": "execute_result"
    },
    {
     "data": {
      "image/png": "[encoded data removed]",
      "text/plain": [
       "<Figure size 432x288 with 1 Axes>"
      ]
     },
     "metadata": {
      "needs_background": "light"
     },
     "output_type": "display_data"
    }
   ],
   "source": [
    "ret.plot.line()"
   ]
  },
  {
   "cell_type": "code",
   "execution_count": 57,
   "metadata": {},
   "outputs": [
    {
     "data": {
      "text/plain": [
       "(Hindalco      0.054712\n",
       " Tata Power    0.365244\n",
       " Axis Bank     0.089751\n",
       " SBI           0.255222\n",
       " HCL          -0.103413\n",
       " dtype: float64,\n",
       " Hindalco      0.407985\n",
       " Tata Power    0.425170\n",
       " Axis Bank     0.281772\n",
       " SBI           0.261112\n",
       " HCL           0.257793\n",
       " dtype: float64)"
      ]
     },
     "execution_count": 57,
     "metadata": {},
     "output_type": "execute_result"
    }
   ],
   "source": [
    "erk.annual_ret(ret),erk.annual_vol(ret)"
   ]
  },
  {
   "cell_type": "code",
   "execution_count": 63,
   "metadata": {
    "colab": {
     "base_uri": "https://localhost:8080/"
    },
    "id": "PaFsRaJV-Pun",
    "outputId": "14000d60-01f8-4db5-9aae-c3f476799b85"
   },
   "outputs": [
    {
     "data": {
      "text/plain": [
       "Hindalco      0.134102\n",
       "Tata Power    0.859053\n",
       "Axis Bank     0.318523\n",
       "SBI           0.977442\n",
       "HCL          -0.401147\n",
       "dtype: float64"
      ]
     },
     "execution_count": 63,
     "metadata": {},
     "output_type": "execute_result"
    }
   ],
   "source": [
    "erk.annual_ret(ret)/erk.annual_vol(ret)"
   ]
  },
  {
   "cell_type": "code",
   "execution_count": 66,
   "metadata": {
    "id": "204YeZzOAVmu"
   },
   "outputs": [],
   "source": [
    "sharpe_ratio=erk.sharpe_ratio(ret)"
   ]
  },
  {
   "cell_type": "code",
   "execution_count": 67,
   "metadata": {
    "colab": {
     "base_uri": "https://localhost:8080/"
    },
    "id": "y4CCbStxDGrJ",
    "outputId": "cb1b588d-0a5d-4e6d-94ab-17fbd6cf56a0"
   },
   "outputs": [
    {
     "data": {
      "text/plain": [
       "Hindalco      0.060570\n",
       "Tata Power    0.788493\n",
       "Axis Bank     0.212054\n",
       "SBI           0.862548\n",
       "HCL          -0.517519\n",
       "dtype: float64"
      ]
     },
     "execution_count": 67,
     "metadata": {},
     "output_type": "execute_result"
    }
   ],
   "source": [
    "sharpe_ratio"
   ]
  },
  {
   "cell_type": "markdown",
   "metadata": {
    "id": "ik7qiKc0mknb"
   },
   "source": [
    "## Efficient frontier"
   ]
  },
  {
   "cell_type": "code",
   "execution_count": 68,
   "metadata": {
    "colab": {
     "base_uri": "https://localhost:8080/",
     "height": 450
    },
    "id": "vtbu_W6DhBLL",
    "outputId": "17386b66-d82f-45ce-b022-e6d45b8af8c9"
   },
   "outputs": [],
   "source": [
    "cov=ret.cov()"
   ]
  },
  {
   "cell_type": "code",
   "execution_count": 69,
   "metadata": {
    "colab": {
     "base_uri": "https://localhost:8080/"
    },
    "id": "GHi8_-7mmz2s",
    "outputId": "a702d7ee-cdb4-4d3c-ca60-fdad89ae48b5"
   },
   "outputs": [
    {
     "data": {
      "text/html": [
       "<div>\n",
       "<style scoped>\n",
       "    .dataframe tbody tr th:only-of-type {\n",
       "        vertical-align: middle;\n",
       "    }\n",
       "\n",
       "    .dataframe tbody tr th {\n",
       "        vertical-align: top;\n",
       "    }\n",
       "\n",
       "    .dataframe thead th {\n",
       "        text-align: right;\n",
       "    }\n",
       "</style>\n",
       "<table border=\"1\" class=\"dataframe\">\n",
       "  <thead>\n",
       "    <tr style=\"text-align: right;\">\n",
       "      <th></th>\n",
       "      <th>Hindalco</th>\n",
       "      <th>Tata Power</th>\n",
       "      <th>Axis Bank</th>\n",
       "      <th>SBI</th>\n",
       "      <th>HCL</th>\n",
       "    </tr>\n",
       "  </thead>\n",
       "  <tbody>\n",
       "    <tr>\n",
       "      <th>Hindalco</th>\n",
       "      <td>0.000661</td>\n",
       "      <td>0.000311</td>\n",
       "      <td>0.000136</td>\n",
       "      <td>0.000167</td>\n",
       "      <td>0.000155</td>\n",
       "    </tr>\n",
       "    <tr>\n",
       "      <th>Tata Power</th>\n",
       "      <td>0.000311</td>\n",
       "      <td>0.000717</td>\n",
       "      <td>0.000153</td>\n",
       "      <td>0.000215</td>\n",
       "      <td>0.000114</td>\n",
       "    </tr>\n",
       "    <tr>\n",
       "      <th>Axis Bank</th>\n",
       "      <td>0.000136</td>\n",
       "      <td>0.000153</td>\n",
       "      <td>0.000315</td>\n",
       "      <td>0.000179</td>\n",
       "      <td>0.000065</td>\n",
       "    </tr>\n",
       "    <tr>\n",
       "      <th>SBI</th>\n",
       "      <td>0.000167</td>\n",
       "      <td>0.000215</td>\n",
       "      <td>0.000179</td>\n",
       "      <td>0.000271</td>\n",
       "      <td>0.000066</td>\n",
       "    </tr>\n",
       "    <tr>\n",
       "      <th>HCL</th>\n",
       "      <td>0.000155</td>\n",
       "      <td>0.000114</td>\n",
       "      <td>0.000065</td>\n",
       "      <td>0.000066</td>\n",
       "      <td>0.000264</td>\n",
       "    </tr>\n",
       "  </tbody>\n",
       "</table>\n",
       "</div>"
      ],
      "text/plain": [
       "            Hindalco  Tata Power  Axis Bank       SBI       HCL\n",
       "Hindalco    0.000661    0.000311   0.000136  0.000167  0.000155\n",
       "Tata Power  0.000311    0.000717   0.000153  0.000215  0.000114\n",
       "Axis Bank   0.000136    0.000153   0.000315  0.000179  0.000065\n",
       "SBI         0.000167    0.000215   0.000179  0.000271  0.000066\n",
       "HCL         0.000155    0.000114   0.000065  0.000066  0.000264"
      ]
     },
     "execution_count": 69,
     "metadata": {},
     "output_type": "execute_result"
    }
   ],
   "source": [
    "cov"
   ]
  },
  {
   "cell_type": "code",
   "execution_count": 70,
   "metadata": {
    "id": "VjpTOJfio1MH"
   },
   "outputs": [],
   "source": [
    "er=erk.annual_ret(ret)"
   ]
  },
  {
   "cell_type": "code",
   "execution_count": 73,
   "metadata": {
    "id": "7XPej7c_o1o0"
   },
   "outputs": [
    {
     "data": {
      "text/plain": [
       "0.13230296506290662"
      ]
     },
     "execution_count": 73,
     "metadata": {},
     "output_type": "execute_result"
    }
   ],
   "source": [
    "erk.portfolio_vol(np.repeat(1/5,5),cov)\n",
    "erk.portfolio_return(np.repeat(1/5,5),erk.annual_ret(ret))"
   ]
  },
  {
   "cell_type": "markdown",
   "metadata": {},
   "source": [
    "### 2 asset frontier"
   ]
  },
  {
   "cell_type": "code",
   "execution_count": 74,
   "metadata": {},
   "outputs": [],
   "source": [
    "l=[\"Hindalco\",\"Axis Bank\"]\n",
    "n_points=50\n",
    "weights=[np.array([w,1-w]) for w in np.linspace(0,1,n_points)]"
   ]
  },
  {
   "cell_type": "code",
   "execution_count": 75,
   "metadata": {},
   "outputs": [
    {
     "data": {
      "text/plain": [
       "<AxesSubplot:xlabel='risk', ylabel='returns'>"
      ]
     },
     "execution_count": 75,
     "metadata": {},
     "output_type": "execute_result"
    },
    {
     "data": {
      "image/png": "[encoded data removed]",
      "text/plain": [
       "<Figure size 432x288 with 1 Axes>"
      ]
     },
     "metadata": {
      "needs_background": "light"
     },
     "output_type": "display_data"
    }
   ],
   "source": [
    "erk.plot_ef2(50,er[l],cov.loc[l,l])"
   ]
  },
  {
   "cell_type": "markdown",
   "metadata": {},
   "source": [
    "### N-Asset Frontier"
   ]
  },
  {
   "cell_type": "code",
   "execution_count": 76,
   "metadata": {},
   "outputs": [
    {
     "data": {
      "text/plain": [
       "<AxesSubplot:xlabel='Volatility'>"
      ]
     },
     "execution_count": 76,
     "metadata": {},
     "output_type": "execute_result"
    },
    {
     "data": {
      "image/png": "[encoded data removed]",
      "text/plain": [
       "<Figure size 432x288 with 1 Axes>"
      ]
     },
     "metadata": {
      "needs_background": "light"
     },
     "output_type": "display_data"
    }
   ],
   "source": [
    "erk.plot_ef(10,er,cov)"
   ]
  },
  {
   "cell_type": "code",
   "execution_count": 77,
   "metadata": {},
   "outputs": [
    {
     "name": "stdout",
     "output_type": "stream",
     "text": [
      "best weightage to invest for 50000 are  [    0.          2022.98252447  8835.97322637 21636.82793826\n",
      " 17504.21631091]\n",
      "volatility is 1.2743346918896932 %\n",
      "return is 10.487884531184454 %\n"
     ]
    }
   ],
   "source": [
    "i=4\n",
    "print('best weightage to invest for 50000 are ',erk.optimal_weights(10,er,cov)[i]*50000)\n",
    "print('volatility is {} %'.format(100*erk.portfolio_vol(erk.optimal_weights(10,er,cov)[i],cov)))\n",
    "print('return is {} %'.format(100*erk.portfolio_return(erk.optimal_weights(10,er,cov)[i],er)))"
   ]
  },
  {
   "cell_type": "markdown",
   "metadata": {},
   "source": [
    "### Finding max sharpe ratio portfolio"
   ]
  },
  {
   "cell_type": "code",
   "execution_count": 80,
   "metadata": {},
   "outputs": [
    {
     "data": {
      "text/plain": [
       "<AxesSubplot:xlabel='Volatility'>"
      ]
     },
     "execution_count": 80,
     "metadata": {},
     "output_type": "execute_result"
    },
    {
     "data": {
      "image/png": "[encoded data removed]",
      "text/plain": [
       "<Figure size 432x288 with 1 Axes>"
      ]
     },
     "metadata": {
      "needs_background": "light"
     },
     "output_type": "display_data"
    }
   ],
   "source": [
    "erk.plot_ef(20,er,cov,show_cml=True,rf=0.1,show_ew=True,show_gmv=True)"
   ]
  },
  {
   "cell_type": "code",
   "execution_count": 81,
   "metadata": {},
   "outputs": [],
   "source": [
    "w_msr=erk.msr(0.6,er,cov)*50000\n",
    "r_msr=erk.portfolio_return(w_msr,er)\n",
    "v_msr=erk.portfolio_vol(w_msr,cov)"
   ]
  },
  {
   "cell_type": "code",
   "execution_count": 90,
   "metadata": {},
   "outputs": [
    {
     "data": {
      "text/plain": [
       "0.015501118047960845"
      ]
     },
     "execution_count": 90,
     "metadata": {},
     "output_type": "execute_result"
    }
   ],
   "source": [
    "erk.portfolio_vol(w,cov)"
   ]
  },
  {
   "cell_type": "code",
   "execution_count": 91,
   "metadata": {},
   "outputs": [],
   "source": [
    "list={\n",
    "'Hindalco':w_msr[0],\n",
    "    'Tata Power':w_msr[1],\n",
    "    'Axis Bank':w_msr[2], \n",
    "    'SBI':w_msr[3],\n",
    "    'HCl':w_msr[4]}"
   ]
  },
  {
   "cell_type": "code",
   "execution_count": 92,
   "metadata": {},
   "outputs": [
    {
     "data": {
      "text/plain": [
       "{'Hindalco': 0.0,\n",
       " 'Tata Power': 49999.99999976585,\n",
       " 'Axis Bank': 7.279177260954839e-08,\n",
       " 'SBI': 0.0,\n",
       " 'HCl': 2.2129520438340933e-07}"
      ]
     },
     "execution_count": 92,
     "metadata": {},
     "output_type": "execute_result"
    }
   ],
   "source": [
    "list"
   ]
  },
  {
   "cell_type": "code",
   "execution_count": null,
   "metadata": {},
   "outputs": [],
   "source": []
  },
  {
   "cell_type": "code",
   "execution_count": null,
   "metadata": {},
   "outputs": [],
   "source": []
  },
  {
   "cell_type": "code",
   "execution_count": null,
   "metadata": {},
   "outputs": [],
   "source": []
  },
  {
   "cell_type": "code",
   "execution_count": null,
   "metadata": {},
   "outputs": [],
   "source": []
  },
  {
   "cell_type": "code",
   "execution_count": 84,
   "metadata": {},
   "outputs": [
    {
     "data": {
      "text/plain": [
       "7441"
      ]
     },
     "execution_count": 84,
     "metadata": {},
     "output_type": "execute_result"
    }
   ],
   "source": [
    "10064-2623\n"
   ]
  },
  {
   "cell_type": "code",
   "execution_count": null,
   "metadata": {},
   "outputs": [],
   "source": []
  }
 ],
 "metadata": {
  "colab": {
   "collapsed_sections": [],
   "name": "financial analysis",
   "provenance": []
  },
  "kernelspec": {
   "display_name": "Python 3 (ipykernel)",
   "language": "python",
   "name": "python3"
  },
  "language_info": {
   "codemirror_mode": {
    "name": "ipython",
    "version": 3
   },
   "file_extension": ".py",
   "mimetype": "text/x-python",
   "name": "python",
   "nbconvert_exporter": "python",
   "pygments_lexer": "ipython3",
   "version": "3.9.7"
  }
 },
 "nbformat": 4,
 "nbformat_minor": 4
}
